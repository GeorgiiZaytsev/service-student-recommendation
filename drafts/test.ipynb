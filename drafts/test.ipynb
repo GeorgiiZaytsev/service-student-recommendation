{
 "cells": [
  {
   "cell_type": "code",
   "execution_count": 49,
   "metadata": {
    "collapsed": true,
    "ExecuteTime": {
     "end_time": "2023-06-22T12:51:22.289530Z",
     "start_time": "2023-06-22T12:51:22.284522Z"
    }
   },
   "outputs": [
    {
     "name": "stdout",
     "output_type": "stream",
     "text": [
      "   id  module   x1  x2  x3\n",
      "0   1       1  7.0   3 NaN\n",
      "1   2       1  NaN   8 NaN\n",
      "[[ 7.  3. nan]\n",
      " [nan  8. nan]]\n",
      "[False False]\n"
     ]
    }
   ],
   "source": [
    "import numpy as np\n",
    "import pandas as pd\n",
    "import pickle\n",
    "\n",
    "df = pd.read_csv('drafts/test.csv')\n",
    "print(df)\n",
    "\n",
    "class Model:\n",
    "\n",
    "    def fit(self, x):\n",
    "        self.bound = 3\n",
    "\n",
    "    def predict(self, x):\n",
    "        fails = np.nansum(x < 4, axis=1)\n",
    "        return fails >= self.bound\n",
    "\n",
    "model = Model()\n",
    "x = df.drop(['id', 'module'], axis=1).to_numpy()\n",
    "print(x)\n",
    "\n",
    "model.fit(x)\n",
    "print(model.predict(x))\n",
    "\n",
    "with open('model.pkl', 'wb') as f:\n",
    "    pickle.dump(model, f, protocol=pickle.HIGHEST_PROTOCOL)\n"
   ]
  },
  {
   "cell_type": "code",
   "execution_count": 33,
   "outputs": [
    {
     "name": "stdout",
     "output_type": "stream",
     "text": [
      "<__main__.Model object at 0x114454ac0>\n",
      "<class '__main__.Model'>\n"
     ]
    }
   ],
   "source": [
    "with open('model.pkl', 'rb') as f:\n",
    "    model = pickle.load(f)\n",
    "    print(model)\n",
    "    print(type(model))"
   ],
   "metadata": {
    "collapsed": false,
    "ExecuteTime": {
     "end_time": "2023-06-22T11:31:36.037577Z",
     "start_time": "2023-06-22T11:31:36.036270Z"
    }
   }
  }
 ],
 "metadata": {
  "kernelspec": {
   "display_name": "Python 3",
   "language": "python",
   "name": "python3"
  },
  "language_info": {
   "codemirror_mode": {
    "name": "ipython",
    "version": 2
   },
   "file_extension": ".py",
   "mimetype": "text/x-python",
   "name": "python",
   "nbconvert_exporter": "python",
   "pygments_lexer": "ipython2",
   "version": "2.7.6"
  }
 },
 "nbformat": 4,
 "nbformat_minor": 0
}
